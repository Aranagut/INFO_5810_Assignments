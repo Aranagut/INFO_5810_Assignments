{
  "cells": [
    {
      "cell_type": "code",
      "execution_count": 127,
      "id": "89f56202",
      "metadata": {
        "colab": {
          "base_uri": "https://localhost:8080/",
          "height": 389
        },
        "id": "89f56202",
        "outputId": "2b285363-7031-4a21-a1d0-05c2db4cdec7"
      },
      "outputs": [
        {
          "output_type": "stream",
          "name": "stdout",
          "text": [
            "Drive already mounted at /content/drive; to attempt to forcibly remount, call drive.mount(\"/content/drive\", force_remount=True).\n"
          ]
        },
        {
          "output_type": "execute_result",
          "data": {
            "text/plain": [
              "   Passenger Class  Survived                                             Name  \\\n",
              "0                1         1                    Allen, Miss. Elisabeth Walton   \n",
              "1                1         1                   Allison, Master. Hudson Trevor   \n",
              "2                1         0                     Allison, Miss. Helen Loraine   \n",
              "3                1         0             Allison, Mr. Hudson Joshua Creighton   \n",
              "4                1         0  Allison, Mrs. Hudson J C (Bessie Waldo Daniels)   \n",
              "\n",
              "      Sex      Age  Siblings and Spouses  Parents and Children Ticket #  \\\n",
              "0  female  29.0000                     0                     0    24160   \n",
              "1    male   0.9167                     1                     2   113781   \n",
              "2  female   2.0000                     1                     2   113781   \n",
              "3    male  30.0000                     1                     2   113781   \n",
              "4  female  25.0000                     1                     2   113781   \n",
              "\n",
              "       Fare    Cabin Port Lifeboat   Body               Home / Destination  \\\n",
              "0  211.3375       B5    S        2    NaN                     St Louis, MO   \n",
              "1  151.5500  C22 C26    S       11    NaN  Montreal, PQ / Chesterville, ON   \n",
              "2  151.5500  C22 C26    S      NaN    NaN  Montreal, PQ / Chesterville, ON   \n",
              "3  151.5500  C22 C26    S      NaN  135.0  Montreal, PQ / Chesterville, ON   \n",
              "4  151.5500  C22 C26    S      NaN    NaN  Montreal, PQ / Chesterville, ON   \n",
              "\n",
              "   Midpoint age  \n",
              "0          27.5  \n",
              "1           2.5  \n",
              "2           2.5  \n",
              "3          32.5  \n",
              "4          27.5  "
            ],
            "text/html": [
              "\n",
              "  <div id=\"df-00d61f5d-241f-4b51-99dc-eb139eb99641\">\n",
              "    <div class=\"colab-df-container\">\n",
              "      <div>\n",
              "<style scoped>\n",
              "    .dataframe tbody tr th:only-of-type {\n",
              "        vertical-align: middle;\n",
              "    }\n",
              "\n",
              "    .dataframe tbody tr th {\n",
              "        vertical-align: top;\n",
              "    }\n",
              "\n",
              "    .dataframe thead th {\n",
              "        text-align: right;\n",
              "    }\n",
              "</style>\n",
              "<table border=\"1\" class=\"dataframe\">\n",
              "  <thead>\n",
              "    <tr style=\"text-align: right;\">\n",
              "      <th></th>\n",
              "      <th>Passenger Class</th>\n",
              "      <th>Survived</th>\n",
              "      <th>Name</th>\n",
              "      <th>Sex</th>\n",
              "      <th>Age</th>\n",
              "      <th>Siblings and Spouses</th>\n",
              "      <th>Parents and Children</th>\n",
              "      <th>Ticket #</th>\n",
              "      <th>Fare</th>\n",
              "      <th>Cabin</th>\n",
              "      <th>Port</th>\n",
              "      <th>Lifeboat</th>\n",
              "      <th>Body</th>\n",
              "      <th>Home / Destination</th>\n",
              "      <th>Midpoint age</th>\n",
              "    </tr>\n",
              "  </thead>\n",
              "  <tbody>\n",
              "    <tr>\n",
              "      <th>0</th>\n",
              "      <td>1</td>\n",
              "      <td>1</td>\n",
              "      <td>Allen, Miss. Elisabeth Walton</td>\n",
              "      <td>female</td>\n",
              "      <td>29.0000</td>\n",
              "      <td>0</td>\n",
              "      <td>0</td>\n",
              "      <td>24160</td>\n",
              "      <td>211.3375</td>\n",
              "      <td>B5</td>\n",
              "      <td>S</td>\n",
              "      <td>2</td>\n",
              "      <td>NaN</td>\n",
              "      <td>St Louis, MO</td>\n",
              "      <td>27.5</td>\n",
              "    </tr>\n",
              "    <tr>\n",
              "      <th>1</th>\n",
              "      <td>1</td>\n",
              "      <td>1</td>\n",
              "      <td>Allison, Master. Hudson Trevor</td>\n",
              "      <td>male</td>\n",
              "      <td>0.9167</td>\n",
              "      <td>1</td>\n",
              "      <td>2</td>\n",
              "      <td>113781</td>\n",
              "      <td>151.5500</td>\n",
              "      <td>C22 C26</td>\n",
              "      <td>S</td>\n",
              "      <td>11</td>\n",
              "      <td>NaN</td>\n",
              "      <td>Montreal, PQ / Chesterville, ON</td>\n",
              "      <td>2.5</td>\n",
              "    </tr>\n",
              "    <tr>\n",
              "      <th>2</th>\n",
              "      <td>1</td>\n",
              "      <td>0</td>\n",
              "      <td>Allison, Miss. Helen Loraine</td>\n",
              "      <td>female</td>\n",
              "      <td>2.0000</td>\n",
              "      <td>1</td>\n",
              "      <td>2</td>\n",
              "      <td>113781</td>\n",
              "      <td>151.5500</td>\n",
              "      <td>C22 C26</td>\n",
              "      <td>S</td>\n",
              "      <td>NaN</td>\n",
              "      <td>NaN</td>\n",
              "      <td>Montreal, PQ / Chesterville, ON</td>\n",
              "      <td>2.5</td>\n",
              "    </tr>\n",
              "    <tr>\n",
              "      <th>3</th>\n",
              "      <td>1</td>\n",
              "      <td>0</td>\n",
              "      <td>Allison, Mr. Hudson Joshua Creighton</td>\n",
              "      <td>male</td>\n",
              "      <td>30.0000</td>\n",
              "      <td>1</td>\n",
              "      <td>2</td>\n",
              "      <td>113781</td>\n",
              "      <td>151.5500</td>\n",
              "      <td>C22 C26</td>\n",
              "      <td>S</td>\n",
              "      <td>NaN</td>\n",
              "      <td>135.0</td>\n",
              "      <td>Montreal, PQ / Chesterville, ON</td>\n",
              "      <td>32.5</td>\n",
              "    </tr>\n",
              "    <tr>\n",
              "      <th>4</th>\n",
              "      <td>1</td>\n",
              "      <td>0</td>\n",
              "      <td>Allison, Mrs. Hudson J C (Bessie Waldo Daniels)</td>\n",
              "      <td>female</td>\n",
              "      <td>25.0000</td>\n",
              "      <td>1</td>\n",
              "      <td>2</td>\n",
              "      <td>113781</td>\n",
              "      <td>151.5500</td>\n",
              "      <td>C22 C26</td>\n",
              "      <td>S</td>\n",
              "      <td>NaN</td>\n",
              "      <td>NaN</td>\n",
              "      <td>Montreal, PQ / Chesterville, ON</td>\n",
              "      <td>27.5</td>\n",
              "    </tr>\n",
              "  </tbody>\n",
              "</table>\n",
              "</div>\n",
              "      <button class=\"colab-df-convert\" onclick=\"convertToInteractive('df-00d61f5d-241f-4b51-99dc-eb139eb99641')\"\n",
              "              title=\"Convert this dataframe to an interactive table.\"\n",
              "              style=\"display:none;\">\n",
              "        \n",
              "  <svg xmlns=\"http://www.w3.org/2000/svg\" height=\"24px\"viewBox=\"0 0 24 24\"\n",
              "       width=\"24px\">\n",
              "    <path d=\"M0 0h24v24H0V0z\" fill=\"none\"/>\n",
              "    <path d=\"M18.56 5.44l.94 2.06.94-2.06 2.06-.94-2.06-.94-.94-2.06-.94 2.06-2.06.94zm-11 1L8.5 8.5l.94-2.06 2.06-.94-2.06-.94L8.5 2.5l-.94 2.06-2.06.94zm10 10l.94 2.06.94-2.06 2.06-.94-2.06-.94-.94-2.06-.94 2.06-2.06.94z\"/><path d=\"M17.41 7.96l-1.37-1.37c-.4-.4-.92-.59-1.43-.59-.52 0-1.04.2-1.43.59L10.3 9.45l-7.72 7.72c-.78.78-.78 2.05 0 2.83L4 21.41c.39.39.9.59 1.41.59.51 0 1.02-.2 1.41-.59l7.78-7.78 2.81-2.81c.8-.78.8-2.07 0-2.86zM5.41 20L4 18.59l7.72-7.72 1.47 1.35L5.41 20z\"/>\n",
              "  </svg>\n",
              "      </button>\n",
              "      \n",
              "  <style>\n",
              "    .colab-df-container {\n",
              "      display:flex;\n",
              "      flex-wrap:wrap;\n",
              "      gap: 12px;\n",
              "    }\n",
              "\n",
              "    .colab-df-convert {\n",
              "      background-color: #E8F0FE;\n",
              "      border: none;\n",
              "      border-radius: 50%;\n",
              "      cursor: pointer;\n",
              "      display: none;\n",
              "      fill: #1967D2;\n",
              "      height: 32px;\n",
              "      padding: 0 0 0 0;\n",
              "      width: 32px;\n",
              "    }\n",
              "\n",
              "    .colab-df-convert:hover {\n",
              "      background-color: #E2EBFA;\n",
              "      box-shadow: 0px 1px 2px rgba(60, 64, 67, 0.3), 0px 1px 3px 1px rgba(60, 64, 67, 0.15);\n",
              "      fill: #174EA6;\n",
              "    }\n",
              "\n",
              "    [theme=dark] .colab-df-convert {\n",
              "      background-color: #3B4455;\n",
              "      fill: #D2E3FC;\n",
              "    }\n",
              "\n",
              "    [theme=dark] .colab-df-convert:hover {\n",
              "      background-color: #434B5C;\n",
              "      box-shadow: 0px 1px 3px 1px rgba(0, 0, 0, 0.15);\n",
              "      filter: drop-shadow(0px 1px 2px rgba(0, 0, 0, 0.3));\n",
              "      fill: #FFFFFF;\n",
              "    }\n",
              "  </style>\n",
              "\n",
              "      <script>\n",
              "        const buttonEl =\n",
              "          document.querySelector('#df-00d61f5d-241f-4b51-99dc-eb139eb99641 button.colab-df-convert');\n",
              "        buttonEl.style.display =\n",
              "          google.colab.kernel.accessAllowed ? 'block' : 'none';\n",
              "\n",
              "        async function convertToInteractive(key) {\n",
              "          const element = document.querySelector('#df-00d61f5d-241f-4b51-99dc-eb139eb99641');\n",
              "          const dataTable =\n",
              "            await google.colab.kernel.invokeFunction('convertToInteractive',\n",
              "                                                     [key], {});\n",
              "          if (!dataTable) return;\n",
              "\n",
              "          const docLinkHtml = 'Like what you see? Visit the ' +\n",
              "            '<a target=\"_blank\" href=https://colab.research.google.com/notebooks/data_table.ipynb>data table notebook</a>'\n",
              "            + ' to learn more about interactive tables.';\n",
              "          element.innerHTML = '';\n",
              "          dataTable['output_type'] = 'display_data';\n",
              "          await google.colab.output.renderOutput(dataTable, element);\n",
              "          const docLink = document.createElement('div');\n",
              "          docLink.innerHTML = docLinkHtml;\n",
              "          element.appendChild(docLink);\n",
              "        }\n",
              "      </script>\n",
              "    </div>\n",
              "  </div>\n",
              "  "
            ]
          },
          "metadata": {},
          "execution_count": 127
        }
      ],
      "source": [
        "from google.colab import drive\n",
        "drive.mount('/content/drive')\n",
        "\n",
        "import numpy as np\n",
        "import pandas as pd\n",
        "import matplotlib.pyplot as plt\n",
        "import seaborn as sns\n",
        "import pandas as pd\n",
        "\n",
        "titanicpassengers_data = pd.read_excel(\"/content/drive/MyDrive/TitanicPassengers.xlsx\")\n",
        "titanicpassengers_data.head()"
      ]
    },
    {
      "cell_type": "code",
      "execution_count": 128,
      "id": "ee33b3c1",
      "metadata": {
        "colab": {
          "base_uri": "https://localhost:8080/"
        },
        "id": "ee33b3c1",
        "outputId": "f62d2fac-fc00-4021-a0f4-4790f478b324"
      },
      "outputs": [
        {
          "output_type": "execute_result",
          "data": {
            "text/plain": [
              "(1309, 15)"
            ]
          },
          "metadata": {},
          "execution_count": 128
        }
      ],
      "source": [
        "# 1st Question:\n",
        "\n",
        "# 1a)\n",
        "\n",
        "#Total number of data records found in the dataset is below\n",
        "titanicpassengers_data.shape"
      ]
    },
    {
      "cell_type": "code",
      "execution_count": 129,
      "id": "7a8907ca",
      "metadata": {
        "colab": {
          "base_uri": "https://localhost:8080/"
        },
        "id": "7a8907ca",
        "outputId": "b473cf72-13f0-478a-c220-b60bb8db2147"
      },
      "outputs": [
        {
          "output_type": "execute_result",
          "data": {
            "text/plain": [
              "263"
            ]
          },
          "metadata": {},
          "execution_count": 129
        }
      ],
      "source": [
        "# 1b)\n",
        "\n",
        "# Total number of data records missing values in AGE variable is below\n",
        "titanicpassengers_data['Age'].isna().sum()"
      ]
    },
    {
      "cell_type": "code",
      "execution_count": 130,
      "id": "10a3de8d",
      "metadata": {
        "colab": {
          "base_uri": "https://localhost:8080/"
        },
        "id": "10a3de8d",
        "outputId": "ddf0605a-f4fd-4a81-9ec8-be7c55dc3211"
      },
      "outputs": [
        {
          "output_type": "execute_result",
          "data": {
            "text/plain": [
              "Index(['Age', 'Fare', 'Cabin', 'Port', 'Lifeboat', 'Body',\n",
              "       'Home / Destination', 'Midpoint age'],\n",
              "      dtype='object')"
            ]
          },
          "metadata": {},
          "execution_count": 130
        }
      ],
      "source": [
        "# Other variables which are missing in the dataset is below\n",
        "titanicpassengers_data.columns[titanicpassengers_data.isna().any()]"
      ]
    },
    {
      "cell_type": "code",
      "execution_count": 131,
      "id": "c060e03c",
      "metadata": {
        "colab": {
          "base_uri": "https://localhost:8080/"
        },
        "id": "c060e03c",
        "outputId": "cf628cab-638b-4f59-8d42-6f96ee0ccbc0"
      },
      "outputs": [
        {
          "output_type": "execute_result",
          "data": {
            "text/plain": [
              "0"
            ]
          },
          "metadata": {},
          "execution_count": 131
        }
      ],
      "source": [
        "# From the dataset below are the duplicate values found\n",
        "\n",
        "titanicpassengers_data.duplicated().sum()"
      ]
    },
    {
      "cell_type": "code",
      "execution_count": 132,
      "id": "d7980d25",
      "metadata": {
        "colab": {
          "base_uri": "https://localhost:8080/"
        },
        "id": "d7980d25",
        "outputId": "9c767aaf-58d1-43bf-b74a-fc66f628058b"
      },
      "outputs": [
        {
          "output_type": "stream",
          "name": "stdout",
          "text": [
            "Proportion of the survived passengers: 0.382\n"
          ]
        }
      ],
      "source": [
        "# 2nd Question:\n",
        "\n",
        "# Below is the Survived passengers proportion\n",
        "\n",
        "print(\"Proportion of the survived passengers:\", round(titanicpassengers_data[titanicpassengers_data['Survived'] == 1].shape[0]/titanicpassengers_data.shape[0], 4))"
      ]
    },
    {
      "cell_type": "code",
      "execution_count": 133,
      "id": "585ce286",
      "metadata": {
        "colab": {
          "base_uri": "https://localhost:8080/"
        },
        "id": "585ce286",
        "outputId": "c06603af-a8c1-49c3-f559-382589129a90"
      },
      "outputs": [
        {
          "output_type": "stream",
          "name": "stdout",
          "text": [
            "Age range of the passengers is from 0.1667 to 80.0\n"
          ]
        }
      ],
      "source": [
        "# Total age range of the titanic passengers is below\n",
        "\n",
        "print(\"Age range of the passengers is from {0} to {1}\".format(titanicpassengers_data['Age'].min(), titanicpassengers_data['Age'].max()))"
      ]
    },
    {
      "cell_type": "code",
      "execution_count": 134,
      "id": "405d722a",
      "metadata": {
        "colab": {
          "base_uri": "https://localhost:8080/",
          "height": 833
        },
        "id": "405d722a",
        "outputId": "049ac7e0-3c9e-4b95-da7f-9378ab9f758e"
      },
      "outputs": [
        {
          "output_type": "execute_result",
          "data": {
            "text/plain": [
              "      Age\n",
              "24.0   47\n",
              "22.0   43\n",
              "21.0   41\n",
              "30.0   40\n",
              "18.0   39\n",
              "25.0   34\n",
              "28.0   32\n",
              "36.0   31\n",
              "26.0   30\n",
              "29.0   30\n",
              "27.0   30\n",
              "19.0   29\n",
              "23.0   26\n",
              "32.0   24\n",
              "31.0   23\n",
              "20.0   23\n",
              "35.0   23\n",
              "33.0   21\n",
              "45.0   21\n",
              "17.0   20\n",
              "39.0   20\n",
              "16.0   19\n",
              "42.0   18\n",
              "40.0   18\n",
              "34.0   16"
            ],
            "text/html": [
              "\n",
              "  <div id=\"df-0ef3ca3c-b8f6-44bf-8a8b-b0f8463b2fc4\">\n",
              "    <div class=\"colab-df-container\">\n",
              "      <div>\n",
              "<style scoped>\n",
              "    .dataframe tbody tr th:only-of-type {\n",
              "        vertical-align: middle;\n",
              "    }\n",
              "\n",
              "    .dataframe tbody tr th {\n",
              "        vertical-align: top;\n",
              "    }\n",
              "\n",
              "    .dataframe thead th {\n",
              "        text-align: right;\n",
              "    }\n",
              "</style>\n",
              "<table border=\"1\" class=\"dataframe\">\n",
              "  <thead>\n",
              "    <tr style=\"text-align: right;\">\n",
              "      <th></th>\n",
              "      <th>Age</th>\n",
              "    </tr>\n",
              "  </thead>\n",
              "  <tbody>\n",
              "    <tr>\n",
              "      <th>24.0</th>\n",
              "      <td>47</td>\n",
              "    </tr>\n",
              "    <tr>\n",
              "      <th>22.0</th>\n",
              "      <td>43</td>\n",
              "    </tr>\n",
              "    <tr>\n",
              "      <th>21.0</th>\n",
              "      <td>41</td>\n",
              "    </tr>\n",
              "    <tr>\n",
              "      <th>30.0</th>\n",
              "      <td>40</td>\n",
              "    </tr>\n",
              "    <tr>\n",
              "      <th>18.0</th>\n",
              "      <td>39</td>\n",
              "    </tr>\n",
              "    <tr>\n",
              "      <th>25.0</th>\n",
              "      <td>34</td>\n",
              "    </tr>\n",
              "    <tr>\n",
              "      <th>28.0</th>\n",
              "      <td>32</td>\n",
              "    </tr>\n",
              "    <tr>\n",
              "      <th>36.0</th>\n",
              "      <td>31</td>\n",
              "    </tr>\n",
              "    <tr>\n",
              "      <th>26.0</th>\n",
              "      <td>30</td>\n",
              "    </tr>\n",
              "    <tr>\n",
              "      <th>29.0</th>\n",
              "      <td>30</td>\n",
              "    </tr>\n",
              "    <tr>\n",
              "      <th>27.0</th>\n",
              "      <td>30</td>\n",
              "    </tr>\n",
              "    <tr>\n",
              "      <th>19.0</th>\n",
              "      <td>29</td>\n",
              "    </tr>\n",
              "    <tr>\n",
              "      <th>23.0</th>\n",
              "      <td>26</td>\n",
              "    </tr>\n",
              "    <tr>\n",
              "      <th>32.0</th>\n",
              "      <td>24</td>\n",
              "    </tr>\n",
              "    <tr>\n",
              "      <th>31.0</th>\n",
              "      <td>23</td>\n",
              "    </tr>\n",
              "    <tr>\n",
              "      <th>20.0</th>\n",
              "      <td>23</td>\n",
              "    </tr>\n",
              "    <tr>\n",
              "      <th>35.0</th>\n",
              "      <td>23</td>\n",
              "    </tr>\n",
              "    <tr>\n",
              "      <th>33.0</th>\n",
              "      <td>21</td>\n",
              "    </tr>\n",
              "    <tr>\n",
              "      <th>45.0</th>\n",
              "      <td>21</td>\n",
              "    </tr>\n",
              "    <tr>\n",
              "      <th>17.0</th>\n",
              "      <td>20</td>\n",
              "    </tr>\n",
              "    <tr>\n",
              "      <th>39.0</th>\n",
              "      <td>20</td>\n",
              "    </tr>\n",
              "    <tr>\n",
              "      <th>16.0</th>\n",
              "      <td>19</td>\n",
              "    </tr>\n",
              "    <tr>\n",
              "      <th>42.0</th>\n",
              "      <td>18</td>\n",
              "    </tr>\n",
              "    <tr>\n",
              "      <th>40.0</th>\n",
              "      <td>18</td>\n",
              "    </tr>\n",
              "    <tr>\n",
              "      <th>34.0</th>\n",
              "      <td>16</td>\n",
              "    </tr>\n",
              "  </tbody>\n",
              "</table>\n",
              "</div>\n",
              "      <button class=\"colab-df-convert\" onclick=\"convertToInteractive('df-0ef3ca3c-b8f6-44bf-8a8b-b0f8463b2fc4')\"\n",
              "              title=\"Convert this dataframe to an interactive table.\"\n",
              "              style=\"display:none;\">\n",
              "        \n",
              "  <svg xmlns=\"http://www.w3.org/2000/svg\" height=\"24px\"viewBox=\"0 0 24 24\"\n",
              "       width=\"24px\">\n",
              "    <path d=\"M0 0h24v24H0V0z\" fill=\"none\"/>\n",
              "    <path d=\"M18.56 5.44l.94 2.06.94-2.06 2.06-.94-2.06-.94-.94-2.06-.94 2.06-2.06.94zm-11 1L8.5 8.5l.94-2.06 2.06-.94-2.06-.94L8.5 2.5l-.94 2.06-2.06.94zm10 10l.94 2.06.94-2.06 2.06-.94-2.06-.94-.94-2.06-.94 2.06-2.06.94z\"/><path d=\"M17.41 7.96l-1.37-1.37c-.4-.4-.92-.59-1.43-.59-.52 0-1.04.2-1.43.59L10.3 9.45l-7.72 7.72c-.78.78-.78 2.05 0 2.83L4 21.41c.39.39.9.59 1.41.59.51 0 1.02-.2 1.41-.59l7.78-7.78 2.81-2.81c.8-.78.8-2.07 0-2.86zM5.41 20L4 18.59l7.72-7.72 1.47 1.35L5.41 20z\"/>\n",
              "  </svg>\n",
              "      </button>\n",
              "      \n",
              "  <style>\n",
              "    .colab-df-container {\n",
              "      display:flex;\n",
              "      flex-wrap:wrap;\n",
              "      gap: 12px;\n",
              "    }\n",
              "\n",
              "    .colab-df-convert {\n",
              "      background-color: #E8F0FE;\n",
              "      border: none;\n",
              "      border-radius: 50%;\n",
              "      cursor: pointer;\n",
              "      display: none;\n",
              "      fill: #1967D2;\n",
              "      height: 32px;\n",
              "      padding: 0 0 0 0;\n",
              "      width: 32px;\n",
              "    }\n",
              "\n",
              "    .colab-df-convert:hover {\n",
              "      background-color: #E2EBFA;\n",
              "      box-shadow: 0px 1px 2px rgba(60, 64, 67, 0.3), 0px 1px 3px 1px rgba(60, 64, 67, 0.15);\n",
              "      fill: #174EA6;\n",
              "    }\n",
              "\n",
              "    [theme=dark] .colab-df-convert {\n",
              "      background-color: #3B4455;\n",
              "      fill: #D2E3FC;\n",
              "    }\n",
              "\n",
              "    [theme=dark] .colab-df-convert:hover {\n",
              "      background-color: #434B5C;\n",
              "      box-shadow: 0px 1px 3px 1px rgba(0, 0, 0, 0.15);\n",
              "      filter: drop-shadow(0px 1px 2px rgba(0, 0, 0, 0.3));\n",
              "      fill: #FFFFFF;\n",
              "    }\n",
              "  </style>\n",
              "\n",
              "      <script>\n",
              "        const buttonEl =\n",
              "          document.querySelector('#df-0ef3ca3c-b8f6-44bf-8a8b-b0f8463b2fc4 button.colab-df-convert');\n",
              "        buttonEl.style.display =\n",
              "          google.colab.kernel.accessAllowed ? 'block' : 'none';\n",
              "\n",
              "        async function convertToInteractive(key) {\n",
              "          const element = document.querySelector('#df-0ef3ca3c-b8f6-44bf-8a8b-b0f8463b2fc4');\n",
              "          const dataTable =\n",
              "            await google.colab.kernel.invokeFunction('convertToInteractive',\n",
              "                                                     [key], {});\n",
              "          if (!dataTable) return;\n",
              "\n",
              "          const docLinkHtml = 'Like what you see? Visit the ' +\n",
              "            '<a target=\"_blank\" href=https://colab.research.google.com/notebooks/data_table.ipynb>data table notebook</a>'\n",
              "            + ' to learn more about interactive tables.';\n",
              "          element.innerHTML = '';\n",
              "          dataTable['output_type'] = 'display_data';\n",
              "          await google.colab.output.renderOutput(dataTable, element);\n",
              "          const docLink = document.createElement('div');\n",
              "          docLink.innerHTML = docLinkHtml;\n",
              "          element.appendChild(docLink);\n",
              "        }\n",
              "      </script>\n",
              "    </div>\n",
              "  </div>\n",
              "  "
            ]
          },
          "metadata": {},
          "execution_count": 134
        }
      ],
      "source": [
        "# Total Majority of Age range of the Titanic passengers is below\n",
        "\n",
        "pd.DataFrame(titanicpassengers_data[\"Age\"].value_counts()).head(25)"
      ]
    },
    {
      "cell_type": "code",
      "execution_count": 135,
      "id": "e33ed9d2",
      "metadata": {
        "colab": {
          "base_uri": "https://localhost:8080/",
          "height": 296
        },
        "id": "e33ed9d2",
        "outputId": "bbc916a3-a8e9-4c95-e82e-6c0fb89ecfd1"
      },
      "outputs": [
        {
          "output_type": "execute_result",
          "data": {
            "text/plain": [
              "Text(0.5, 0, 'Survived')"
            ]
          },
          "metadata": {},
          "execution_count": 135
        },
        {
          "output_type": "display_data",
          "data": {
            "text/plain": [
              "<Figure size 432x288 with 1 Axes>"
            ],
            "image/png": "[encoded data removed]"
          },
          "metadata": {
            "needs_background": "light"
          }
        }
      ],
      "source": [
        "# Below is the graph for \"Survived\" distribu!on and the \"Age\" distribution\n",
        "\n",
        "titanicpassengers_data['Survived'].hist(color = \"maroon\")\n",
        "plt.xlabel(\"Survived\")"
      ]
    },
    {
      "cell_type": "code",
      "execution_count": 136,
      "id": "31ba2550",
      "metadata": {
        "colab": {
          "base_uri": "https://localhost:8080/",
          "height": 296
        },
        "id": "31ba2550",
        "outputId": "3590b579-b24b-4afe-8fda-0cd099a59473"
      },
      "outputs": [
        {
          "output_type": "execute_result",
          "data": {
            "text/plain": [
              "Text(0.5, 0, 'Age')"
            ]
          },
          "metadata": {},
          "execution_count": 136
        },
        {
          "output_type": "display_data",
          "data": {
            "text/plain": [
              "<Figure size 432x288 with 1 Axes>"
            ],
            "image/png": "[encoded data removed]"
          },
          "metadata": {
            "needs_background": "light"
          }
        }
      ],
      "source": [
        "from pyparsing.core import Keyword\n",
        "titanicpassengers_data['Age'].hist(color = \"green\")\n",
        "plt.xlabel(\"Age\")"
      ]
    },
    {
      "cell_type": "code",
      "execution_count": 137,
      "id": "3c91885a",
      "metadata": {
        "colab": {
          "base_uri": "https://localhost:8080/"
        },
        "id": "3c91885a",
        "outputId": "4c91db7b-6e6e-48df-c262-8b2c951e8401"
      },
      "outputs": [
        {
          "output_type": "stream",
          "name": "stdout",
          "text": [
            "First class passengers proportion compared to rest class is 0.247\n"
          ]
        }
      ],
      "source": [
        "# 3rd Question\n",
        "\n",
        "# proportion of first-class passengers compared to the rest\n",
        "print(\"First class passengers proportion compared to rest class is {}\".\n",
        "      format(round(titanicpassengers_data['Passenger Class'].value_counts()[1]/titanicpassengers_data.shape[0], 3)))\n"
      ]
    },
    {
      "cell_type": "code",
      "execution_count": 138,
      "id": "385eb33b",
      "metadata": {
        "colab": {
          "base_uri": "https://localhost:8080/"
        },
        "id": "385eb33b",
        "outputId": "eb5053d0-8ca2-4895-c982-e8ff82ee0edc"
      },
      "outputs": [
        {
          "output_type": "execute_result",
          "data": {
            "text/plain": [
              "New York, NY                                    64\n",
              "London                                          14\n",
              "Montreal, PQ                                    10\n",
              "Paris, France                                    9\n",
              "Cornwall / Akron, OH                             9\n",
              "                                                ..\n",
              "Chelsea, London                                  1\n",
              "Harrow-on-the-Hill, Middlesex                    1\n",
              "Copenhagen, Denmark                              1\n",
              "Guernsey / Montclair, NJ and/or Toledo, Ohio     1\n",
              "Antwerp, Belgium / Stanton, OH                   1\n",
              "Name: Home / Destination, Length: 369, dtype: int64"
            ]
          },
          "metadata": {},
          "execution_count": 138
        }
      ],
      "source": [
        "# Most common visited home destination of the Titanic passengers is below\n",
        "\n",
        "titanicpassengers_data['Home / Destination'].value_counts()"
      ]
    },
    {
      "cell_type": "code",
      "source": [
        "print(\"Most common visited home destination of the Titanic passengers is New York, NY.\")"
      ],
      "metadata": {
        "colab": {
          "base_uri": "https://localhost:8080/"
        },
        "id": "Twd8nEFnqRgD",
        "outputId": "218d0757-38da-4784-de51-c68851222c74"
      },
      "id": "Twd8nEFnqRgD",
      "execution_count": 139,
      "outputs": [
        {
          "output_type": "stream",
          "name": "stdout",
          "text": [
            "Most common visited home destination of the Titanic passengers is New York, NY.\n"
          ]
        }
      ]
    },
    {
      "cell_type": "code",
      "execution_count": 140,
      "id": "b6d5cf4f",
      "metadata": {
        "colab": {
          "base_uri": "https://localhost:8080/"
        },
        "id": "b6d5cf4f",
        "outputId": "dbb7a67a-3008-4271-a789-59a3d993ff34"
      },
      "outputs": [
        {
          "output_type": "stream",
          "name": "stdout",
          "text": [
            "For this model, AUC score is: 0.746\n"
          ]
        }
      ],
      "source": [
        "# 4th question\n",
        "\n",
        "#Logostic regression model\n",
        "\n",
        "from sklearn.linear_model import LogisticRegression # Logistics Regression\n",
        "from sklearn.metrics import accuracy_score, confusion_matrix, roc_auc_score, classification_report \n",
        "\n",
        "titanicpassengers_data = titanicpassengers_data.replace({'female': 0, 'male': 1})\n",
        "titanicpassengers_data = titanicpassengers_data.dropna(subset=['Age'])\n",
        "x = titanicpassengers_data[['Age', 'Passenger Class', 'Sex']]\n",
        "y = titanicpassengers_data['Survived']\n",
        "\n",
        "from sklearn.model_selection import train_test_split\n",
        "xtrain, xtest, ytrain, ytest = train_test_split(x,y, test_size = 0.25, random_state = 0)\n",
        "\n",
        "log_reg = LogisticRegression()\n",
        "log_reg.fit(xtrain, ytrain)\n",
        "\n",
        "y_pred =log_reg.predict(xtest)\n",
        "\n",
        "print(\"For this model, AUC score is:\", round(roc_auc_score(ytest, y_pred), 3))\n"
      ]
    },
    {
      "cell_type": "code",
      "execution_count": 141,
      "id": "f951c08d",
      "metadata": {
        "colab": {
          "base_uri": "https://localhost:8080/"
        },
        "id": "f951c08d",
        "outputId": "8b6b37a4-7ffe-4d93-ad81-d08b33bfe272"
      },
      "outputs": [
        {
          "output_type": "stream",
          "name": "stdout",
          "text": [
            "              precision    recall  f1-score   support\n",
            "\n",
            "           0       0.79      0.82      0.80       157\n",
            "           1       0.71      0.68      0.69       105\n",
            "\n",
            "    accuracy                           0.76       262\n",
            "   macro avg       0.75      0.75      0.75       262\n",
            "weighted avg       0.76      0.76      0.76       262\n",
            "\n"
          ]
        }
      ],
      "source": [
        "print(classification_report(ytest, y_pred))"
      ]
    },
    {
      "cell_type": "code",
      "execution_count": 142,
      "id": "2e95b7a8",
      "metadata": {
        "colab": {
          "base_uri": "https://localhost:8080/"
        },
        "id": "2e95b7a8",
        "outputId": "3e179a57-ca75-4271-ec2d-c4551a8498b1"
      },
      "outputs": [
        {
          "output_type": "stream",
          "name": "stdout",
          "text": [
            "0.0\n"
          ]
        }
      ],
      "source": [
        "# the chance that a female baby (less than 10 years old) first-class passenger survived\n",
        "\n",
        "print(round((titanicpassengers_data[(titanicpassengers_data['Age'] < 10) & (titanicpassengers_data['Survived'] == 1) & (titanicpassengers_data['Sex'] == 0) & (titanicpassengers_data['Passenger Class'] == 1)].shape[0])/titanicpassengers_data.shape[0], 10))"
      ]
    },
    {
      "cell_type": "code",
      "execution_count": 143,
      "id": "61ca0d44",
      "metadata": {
        "colab": {
          "base_uri": "https://localhost:8080/"
        },
        "id": "61ca0d44",
        "outputId": "30ed709c-b3d0-4e80-c936-2c1e9a817bfe"
      },
      "outputs": [
        {
          "output_type": "stream",
          "name": "stdout",
          "text": [
            "0.0133843212\n"
          ]
        }
      ],
      "source": [
        "# the chance that a female baby (less than 10 years old) third-class passenger survived\n",
        "print(round((titanicpassengers_data[(titanicpassengers_data['Age'] < 10) & (titanicpassengers_data['Survived'] == 1) & (titanicpassengers_data['Sex'] == 0) & (titanicpassengers_data['Passenger Class'] == 3)].shape[0])/titanicpassengers_data.shape[0], 10))"
      ]
    },
    {
      "cell_type": "code",
      "execution_count": 144,
      "id": "d0fb2b45",
      "metadata": {
        "colab": {
          "base_uri": "https://localhost:8080/"
        },
        "id": "d0fb2b45",
        "outputId": "43f7bfd5-ab72-45f0-c801-1e3aced9f435"
      },
      "outputs": [
        {
          "output_type": "stream",
          "name": "stdout",
          "text": [
            "0.0009560229\n"
          ]
        }
      ],
      "source": [
        "# the chance that a 40 years old male first-class passenger survived\n",
        "print(round((titanicpassengers_data[(titanicpassengers_data['Age'] == 40) & (titanicpassengers_data['Survived'] == 1) & (titanicpassengers_data['Sex'] == 1) & (titanicpassengers_data['Passenger Class'] == 1)].shape[0])/titanicpassengers_data.shape[0], 10))"
      ]
    },
    {
      "cell_type": "code",
      "execution_count": 145,
      "id": "ee0b2eb4",
      "metadata": {
        "colab": {
          "base_uri": "https://localhost:8080/"
        },
        "id": "ee0b2eb4",
        "outputId": "bdac82b9-7f4e-4d36-8821-9a9b54493297"
      },
      "outputs": [
        {
          "output_type": "stream",
          "name": "stdout",
          "text": [
            "0.0\n"
          ]
        }
      ],
      "source": [
        "# the chance that a 40 years old male third-class passenger survived\n",
        "print(round((titanicpassengers_data[(titanicpassengers_data['Age'] == 40) & (titanicpassengers_data['Survived'] == 1) & (titanicpassengers_data['Sex'] == 1) & (titanicpassengers_data['Passenger Class'] == 3)].shape[0])/titanicpassengers_data.shape[0], 10))"
      ]
    },
    {
      "cell_type": "code",
      "execution_count": 146,
      "id": "a1dae5c3",
      "metadata": {
        "scrolled": true,
        "colab": {
          "base_uri": "https://localhost:8080/",
          "height": 225
        },
        "id": "a1dae5c3",
        "outputId": "3d4888c1-e6b2-459d-ca93-7fbd560d1c16"
      },
      "outputs": [
        {
          "output_type": "display_data",
          "data": {
            "text/plain": [
              "<Figure size 2160x216 with 6 Axes>"
            ],
            "image/png": "[encoded data removed]"
          },
          "metadata": {
            "needs_background": "light"
          }
        }
      ],
      "source": [
        "# 5th question\n",
        "\n",
        "from statsmodels.graphics.mosaicplot import mosaic\n",
        "\n",
        "def my_mosaic(*args,**kwargs):\n",
        "    mosaic(kwargs['data'], list(args),\n",
        "           labelizer=lambda k: '',\n",
        "           ax=plt.gca())\n",
        "\n",
        "a = sns.FacetGrid(titanicpassengers_data, col='Sex', col_wrap=10)\n",
        "a.map(sns.barplot, \"Survived\", \"Passenger Class\", order=[\"Sex=0\", \"Sex=1\"])\n",
        "a = a.map_dataframe(my_mosaic, 'Passenger Class', 'Survived')"
      ]
    },
    {
      "cell_type": "code",
      "execution_count": 147,
      "id": "ee23ce3f",
      "metadata": {
        "colab": {
          "base_uri": "https://localhost:8080/"
        },
        "id": "ee23ce3f",
        "outputId": "3266e451-9806-4c91-b9b0-67233f3cb507"
      },
      "outputs": [
        {
          "output_type": "stream",
          "name": "stdout",
          "text": [
            "AUC score of this model is 0.726\n"
          ]
        }
      ],
      "source": [
        "# 6th question\n",
        "\n",
        "from sklearn.tree import DecisionTreeClassifier\n",
        "\n",
        "xtrain, xtest, ytrain, ytest = train_test_split(x,y, test_size = 0.30, random_state = 55)\n",
        "dt_model1 = DecisionTreeClassifier(criterion='entropy', max_depth = 7)\n",
        "dt_model1.fit(xtrain, ytrain)\n",
        "\n",
        "dt_pred1 = dt_model1.predict(xtest)\n",
        "print(\"AUC score of this model is\", round(roc_auc_score(ytest, dt_pred1), 3))"
      ]
    },
    {
      "cell_type": "code",
      "execution_count": 150,
      "id": "c946f6a3",
      "metadata": {
        "colab": {
          "base_uri": "https://localhost:8080/"
        },
        "id": "c946f6a3",
        "outputId": "6fea7b09-13c5-4463-9787-b852110f63f8"
      },
      "outputs": [
        {
          "output_type": "stream",
          "name": "stdout",
          "text": [
            "Feature Importance = [0.13485474 0.11921505 0.21343317]\n",
            "Age and Sex features are the most important for the decision tree model to predict\n"
          ]
        }
      ],
      "source": [
        "ft_importance = dt_model1.tree_.compute_feature_importances(normalize=False)\n",
        "print(\"Feature Importance = \" + str(ft_importance))\n",
        "print(\"Age and Sex features are the most important for the decision tree model to predict\")"
      ]
    }
  ],
  "metadata": {
    "kernelspec": {
      "display_name": "Python 3 (ipykernel)",
      "language": "python",
      "name": "python3"
    },
    "language_info": {
      "codemirror_mode": {
        "name": "ipython",
        "version": 3
      },
      "file_extension": ".py",
      "mimetype": "text/x-python",
      "name": "python",
      "nbconvert_exporter": "python",
      "pygments_lexer": "ipython3",
      "version": "3.9.12"
    },
    "colab": {
      "name": "INFO_5810_Tejaswini-Assignment2.ipynb",
      "provenance": [],
      "collapsed_sections": []
    }
  },
  "nbformat": 4,
  "nbformat_minor": 5
}